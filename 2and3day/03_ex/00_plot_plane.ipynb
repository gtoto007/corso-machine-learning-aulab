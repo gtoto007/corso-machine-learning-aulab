{
 "cells": [
  {
   "cell_type": "code",
   "execution_count": 1,
   "metadata": {},
   "outputs": [
    {
     "data": {
      "application/vnd.jupyter.widget-view+json": {
       "model_id": "b8ca00ccaf8745988d7966ba97fbfbba",
       "version_major": 2,
       "version_minor": 0
      },
      "text/plain": [
       "Canvas(toolbar=Toolbar(toolitems=[('Home', 'Reset original view', 'home', 'home'), ('Back', 'Back to previous …"
      ]
     },
     "metadata": {},
     "output_type": "display_data"
    }
   ],
   "source": [
    "%matplotlib widget\n",
    "# Plot a plane that roughly approximates a dataset with two input variables.\n",
    "import drawer \n",
    "import numpy as np\n",
    "\n",
    "# Import the dataset\n",
    "x1, x2, y = np.loadtxt(\"cornetti_with_2_variables.txt\", skiprows=1, unpack=True)\n",
    "# These weights came out of the training phase\n",
    "w = np.array([ 3.45714244, 0.76121892, -0.16360205])\n",
    "\n",
    "drawer.plane(w,x1,x2,y)\n",
    "\n",
    "\n",
    "\n"
   ]
  },
  {
   "cell_type": "code",
   "execution_count": null,
   "metadata": {},
   "outputs": [],
   "source": []
  }
 ],
 "metadata": {
  "kernelspec": {
   "display_name": "Python 3",
   "language": "python",
   "name": "python3"
  },
  "language_info": {
   "codemirror_mode": {
    "name": "ipython",
    "version": 3
   },
   "file_extension": ".py",
   "mimetype": "text/x-python",
   "name": "python",
   "nbconvert_exporter": "python",
   "pygments_lexer": "ipython3",
   "version": "3.7.6"
  }
 },
 "nbformat": 4,
 "nbformat_minor": 4
}
