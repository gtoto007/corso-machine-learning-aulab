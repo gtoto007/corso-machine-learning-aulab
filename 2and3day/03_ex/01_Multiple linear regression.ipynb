{
 "cells": [
  {
   "cell_type": "code",
   "execution_count": 5,
   "metadata": {},
   "outputs": [
    {
     "name": "stdout",
     "output_type": "stream",
     "text": [
      "[[0.]\n",
      " [0.]\n",
      " [0.]]\n",
      "\n",
      "Weights: [[ 3.4570414   0.76121425 -0.16359694]]\n",
      "\n",
      "A few predictions:\n",
      "X[0] -> 1.9279 (label: 2)\n",
      "X[1] -> 1.4371 (label: 0)\n",
      "X[2] -> 2.7959 (label: 2)\n",
      "X[3] -> 0.8328 (label: 1)\n",
      "X[4] -> 3.1732 (label: 3)\n"
     ]
    },
    {
     "data": {
      "application/vnd.jupyter.widget-view+json": {
       "model_id": "81d961fdde5c41a28a3418c5a061bd13",
       "version_major": 2,
       "version_minor": 0
      },
      "text/plain": [
       "Canvas(toolbar=Toolbar(toolitems=[('Home', 'Reset original view', 'home', 'home'), ('Back', 'Back to previous …"
      ]
     },
     "metadata": {},
     "output_type": "display_data"
    }
   ],
   "source": [
    "%matplotlib widget\n",
    "import drawer \n",
    "import numpy as np\n",
    "import matplotlib.pyplot as plt\n",
    "\n",
    "def prediction(X,W): \n",
    "    return np.matmul(X,W) \n",
    "\n",
    "def loss(X,Y,W):\n",
    "    error=prediction(X,W) - Y\n",
    "    squared_error = error**2\n",
    "    return np.average(squared_error)\n",
    "\n",
    "def gradient(X, Y, W):\n",
    "    return 2 * np.matmul(X.T, (prediction(X, W) - Y)) / X.shape[0]\n",
    "\n",
    "\n",
    "def training(X,Y,iteration,learning_rate):\n",
    "    W = np.zeros((X.shape[1], 1))\n",
    "    print(W)\n",
    "    for i in range(iteration):\n",
    "        current_loss = loss(X,Y,W)\n",
    "        W -= gradient(X, Y, W) * learning_rate\n",
    "      #  print(f\"iterazione {i+1}  | loss:{current_loss}\")\n",
    " \n",
    "    return W\n",
    "        \n",
    "# carico il training set \n",
    "x1,x2,y = np.loadtxt(\"cornetti_with_2_variables.txt\",skiprows=1,unpack=True)\n",
    "X = np.column_stack((np.ones(x1.size), x1, x2))\n",
    "#print(X)\n",
    "\n",
    "Y = y.reshape(-1, 1)\n",
    "\n",
    "#print(Y)\n",
    "\n",
    "# avvio  il training\n",
    "W= training(X,Y,100000,0.0001)\n",
    "\n",
    "\n",
    "print(\"\\nWeights: %s\" % W.T)\n",
    "print(\"\\nA few predictions:\")\n",
    "for i in range(5):\n",
    "    print(\"X[%d] -> %.4f (label: %d)\" % (i, prediction(X[i], W), Y[i]))\n",
    "    \n",
    "drawer.plane(W,x1,x2,y)"
   ]
  },
  {
   "cell_type": "code",
   "execution_count": null,
   "metadata": {},
   "outputs": [],
   "source": []
  }
 ],
 "metadata": {
  "kernelspec": {
   "display_name": "Python 3",
   "language": "python",
   "name": "python3"
  },
  "language_info": {
   "codemirror_mode": {
    "name": "ipython",
    "version": 3
   },
   "file_extension": ".py",
   "mimetype": "text/x-python",
   "name": "python",
   "nbconvert_exporter": "python",
   "pygments_lexer": "ipython3",
   "version": "3.7.6"
  }
 },
 "nbformat": 4,
 "nbformat_minor": 4
}
