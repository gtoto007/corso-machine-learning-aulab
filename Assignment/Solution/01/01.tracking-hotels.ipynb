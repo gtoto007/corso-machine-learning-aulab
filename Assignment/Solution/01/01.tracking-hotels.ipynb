{
 "cells": [
  {
   "cell_type": "code",
   "execution_count": 9,
   "metadata": {},
   "outputs": [
    {
     "name": "stdout",
     "output_type": "stream",
     "text": [
      "**RICHIESTA DISPONIBILITA STANZA per 1 persona/e'\n",
      "check-in: 2020-09-01\n",
      "check-out: 2020-09-02\n",
      "il prezzo della stanza è:  € 88 \n",
      "\n",
      "**RICHIESTA DISPONIBILITA STANZA per 1 persona/e'\n",
      "check-in: 2020-09-02\n",
      "check-out: 2020-09-03\n",
      "il prezzo della stanza è:  € 79 \n",
      "\n",
      "**RICHIESTA DISPONIBILITA STANZA per 1 persona/e'\n",
      "check-in: 2020-09-03\n",
      "check-out: 2020-09-04\n",
      "il prezzo della stanza è:  € 88 \n",
      "\n",
      "**RICHIESTA DISPONIBILITA STANZA per 1 persona/e'\n",
      "check-in: 2020-09-04\n",
      "check-out: 2020-09-05\n",
      "il prezzo della stanza è:  € 88 \n",
      "\n",
      "[{'check_in': datetime.date(2020, 9, 1), 'check_out': datetime.date(2020, 9, 2), 'price': '€ 88'}, {'check_in': datetime.date(2020, 9, 2), 'check_out': datetime.date(2020, 9, 3), 'price': '€ 79'}, {'check_in': datetime.date(2020, 9, 3), 'check_out': datetime.date(2020, 9, 4), 'price': '€ 88'}, {'check_in': datetime.date(2020, 9, 4), 'check_out': datetime.date(2020, 9, 5), 'price': '€ 88'}]\n"
     ]
    }
   ],
   "source": [
    "from selenium import webdriver\n",
    "from datetime import datetime  \n",
    "from datetime import timedelta\n",
    "import time\n",
    "driver=webdriver.Chrome()\n",
    "    \n",
    "def days_between(start_date, end_date):\n",
    "    start_date = datetime.strptime(start_date, \"%Y-%m-%d\")\n",
    "    end_date = datetime.strptime(end_date, \"%Y-%m-%d\")\n",
    "    return abs((end_date - start_date).days)\n",
    "\n",
    "def tracking(url,check_in,check_out,adults):\n",
    "    url_formatted= url.format(check_in=check_in,check_out=check_out,adults=adults)\n",
    "    driver.get(url_formatted)\n",
    "    prezzo = driver.find_elements_by_class_name(\"prco-valign-middle-helper\")\n",
    "    if(prezzo!=False):\n",
    "        return prezzo[0].text.strip()\n",
    "    else:\n",
    "        return False\n",
    "\n",
    "def tracking_period(URL_QUERY,start_date,end_date,adults,interval_day):\n",
    "    formatData = \"%Y-%m-%d\"\n",
    "    check_in = datetime.strptime(start_date,formatData).date()\n",
    "    lista=[]\n",
    "    for number in range(0,days_between(start_date, end_date)+1):\n",
    "        #interval_day = interval_day \n",
    "        check_out = check_in + timedelta(interval_day)\n",
    "        print (f\"**RICHIESTA DISPONIBILITA STANZA per {adults} persona/e'\")\n",
    "        print (f\"check-in: {check_in}\")\n",
    "        print (f\"check-out: {check_out}\")\n",
    "        price = tracking(URL_QUERY,check_in,check_out,adults)\n",
    "        if(price!=False):\n",
    "            print(\"il prezzo della stanza è: \", price, \"\\n\")\n",
    "        else:\n",
    "            print(\"Non disponibile per queste date\")\n",
    "        period={'check_in':check_in,\n",
    "                'check_out':check_out,\n",
    "                'price':price}\n",
    "        lista.append(period)\n",
    "        check_in = check_in + timedelta(days=1)\n",
    "        time.sleep(5)\n",
    "    return lista\n",
    "\n",
    "URL_QUERY = \"https://www.booking.com/hotel/gb/centralparklondon.it.html?label=gen173nr-1FCAEoggI46AdIM1gEaHGIAQGYARS4AQfIAQ3YAQHoAQH4AQuIAgGoAgO4AqXUufMFwAIB;sid=465273069362e043a7c00a7a70c61e2f;all_sr_blocks=14130_91909117_0_2_0;checkin={check_in};checkout={check_out};dest_id=-2601889;dest_type=city;dist=0;group_adults={adults};group_children=0;hapos=1;highlighted_blocks=14130_91909117_0_2_0;hpos=1;no_rooms=1;req_adults=1;req_children=0;room1=A;sb_price_type=total;sr_order=popularity;sr_pri_blocks=14130_91909117_0_2_0__93960;srepoch=1584294571;srpvid=5e897d55067e000c;type=total;ucfs=1&#hotelTmpl\"\n",
    "adults=1  \n",
    "month = tracking_period(URL_QUERY,\"2020-09-01\",\"2020-09-4\",adults=1,interval_day=1)\n",
    "print(month)\n"
   ]
  }
 ],
 "metadata": {
  "kernelspec": {
   "display_name": "Python 3",
   "language": "python",
   "name": "python3"
  },
  "language_info": {
   "codemirror_mode": {
    "name": "ipython",
    "version": 3
   },
   "file_extension": ".py",
   "mimetype": "text/x-python",
   "name": "python",
   "nbconvert_exporter": "python",
   "pygments_lexer": "ipython3",
   "version": "3.7.4"
  }
 },
 "nbformat": 4,
 "nbformat_minor": 4
}
