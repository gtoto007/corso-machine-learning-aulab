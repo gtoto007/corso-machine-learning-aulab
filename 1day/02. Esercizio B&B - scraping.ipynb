{
 "cells": [
  {
   "cell_type": "markdown",
   "metadata": {},
   "source": [
    "# COMPETITORS - B&B \n",
    "Supponete che vogliate aprite  un B&B vostra zona di residenza. Ma prima di prendere questa importante decisione e fare un eventuale investimento, volete avere delle stime attentibili di quanto guadagnano i  maggiori competitor del vostro isolato nei prossimi mesi.\n",
    "\n",
    "Per le vostre analisi di mercato potrà esservi utile creare un sistema di tracciamento di prezzi  sul sito di prenotazioni più conosciuto della vostra zona: booking.com\n",
    "\n",
    "Il vostro obiettivo di base sarà: dato un url di booking di un vostro competitor creare uno script di web-scraping (sfruttando la librerie [Selenium](https://www.selenium.dev/)) che  controlla la disponibilità e i prezzi per un particolare periodo dell'anno.\n"
   ]
  },
  {
   "cell_type": "markdown",
   "metadata": {},
   "source": [
    "## CONFIGURARE SELENIUM"
   ]
  },
  {
   "cell_type": "markdown",
   "metadata": {},
   "source": [
    "#STEP 1 - installare il **package \"selenium\"** sull'attuale enviroment di Anaconda.  \n",
    "#STEP 2 - assicurarsi di avere **chrome** installato sul vostro pc e aggiornartelo all'ultima versione disponibile.\n",
    "#STEP 3 - scaricare **ChromeDriver** in base alla versione di chrome installata sul vostro pc: https://sites.google.com/a/chromium.org/chromedriver/downloads ( **ChromeDriver 80.0.3987.106**). Vi sarà utile per poter interfacciarvi con chrome via codice tramite python. \n",
    "\n",
    "   **n.b** <u>NON INSTALLATE</u> il driver versione **81.\\*** perchè fa riferimento a una versione chrome attualmente in beta.\n",
    "#STEP 4: Decomprimete il file e  posizionate il file all'interno di una cartella presente nella variabile di sistema **PATH**. Il posto punto più facile per window è inserirlo dentro **C:\\Windows** . Questo sarà utile per far si che selenium può richiamare il specifico driver in qualsiasi punto.\n",
    "\n",
    "Per maggiori aiuti: http://jonathansoma.com/lede/foundations-2018/classes/selenium/selenium-windows-install/"
   ]
  },
  {
   "cell_type": "markdown",
   "metadata": {},
   "source": [
    "## SE TUTTO E' andato bene...dovreste poter eseguire questo codice"
   ]
  },
  {
   "cell_type": "code",
   "execution_count": 3,
   "metadata": {},
   "outputs": [
    {
     "name": "stdout",
     "output_type": "stream",
     "text": [
      "TITOLI IN PRIMA PAGINA:\n",
      "Global Spread Prompts New Designation\n",
      "Sanders to Hold News Conference on Campaign’s Future\n",
      "5 Takeaways From Tuesday’s Democratic Primaries\n",
      "Harvey Weinstein Is Sentenced to 23 Years in Prison\n",
      "Trump Administration Presses Cities to Evict Homeowners From Flood Zones\n"
     ]
    }
   ],
   "source": [
    "#importa la libreria selenium\n",
    "from selenium import webdriver \n",
    "#carica il driver di chrome per poter interaggire con il browser\n",
    "driver = webdriver.Chrome()\n",
    "#recupera la pagina html della homepage del NEW YORK TIMES\n",
    "driver.get(\"https://www.nytimes.com\")\n",
    "#filtra tutti gli elementi di testo presenti nella pagina sfruttando una classe css\n",
    "headlines = driver.find_elements_by_class_name(\"css-1qwxefa\")\n",
    "##stampai titoli degli articoli principali presenti nella homepage della testata giornalistica\n",
    "if(headlines): #in python se una lista è vuota viene considerata False\n",
    "    print(\"TITOLI IN PRIMA PAGINA:\")\n",
    "    for headline in headlines:\n",
    "        print(headline.text.strip())\n",
    "else:\n",
    "     print(\"Nessuno TITOLO trovato\")\n"
   ]
  },
  {
   "cell_type": "markdown",
   "metadata": {},
   "source": [
    "### ORA DIAMOCI DA FARE: realizziamo il nostro scraping"
   ]
  },
  {
   "cell_type": "code",
   "execution_count": null,
   "metadata": {},
   "outputs": [],
   "source": [
    "# Prima di procedere resettiamo lo script di prima e rispondiamo y\n",
    "%reset"
   ]
  },
  {
   "cell_type": "markdown",
   "metadata": {},
   "source": [
    "#### STEP 01 - importare il modulo webdriver dal package selenium"
   ]
  },
  {
   "cell_type": "code",
   "execution_count": null,
   "metadata": {},
   "outputs": [],
   "source": [
    "#your code here"
   ]
  },
  {
   "cell_type": "markdown",
   "metadata": {},
   "source": [
    "#### STEP 02 - istanziate il driver chrome per poter utilizzare il browser"
   ]
  },
  {
   "cell_type": "code",
   "execution_count": null,
   "metadata": {},
   "outputs": [],
   "source": [
    "#your code here"
   ]
  },
  {
   "cell_type": "markdown",
   "metadata": {},
   "source": [
    "#### STEP 03 individuate l'url di query del b&b concorrente dal sito di Booking\n",
    "Per svolgere questo passo, andate su booking.com, scegliete un b&b potenziale competitor della vostra zona di residenza, simulate di fare un check-in and check-out su sito di booking per verificare la disponibilità e recuperate l'url. \n",
    "Dall'url individuate quali sono le potenziali variabili di {check-in},{check-out} e {adults} che potete generealizzare e impostante dei {placeholder} nella stringa."
   ]
  },
  {
   "cell_type": "code",
   "execution_count": null,
   "metadata": {},
   "outputs": [],
   "source": [
    "URL_QUERY=#your code here"
   ]
  },
  {
   "cell_type": "markdown",
   "metadata": {},
   "source": [
    "#### STEP 04: definire una funzione che  definiti in input 4 parametri: \n",
    "- **url**: l'url template di un b&b\n",
    "- **checkin**: la data di checkin\n",
    "- **checkout**: la data di checkout\n",
    "- **adults**: il numero di persone che soggiornano\n",
    "\n",
    "fa scraping della pagina di booking del b&b \n",
    "e restituisce\n",
    "- il **prezzo della stanza** in caso di disponibilità\n",
    "- oppure **false** in caso di indisponibilità\n",
    "\n",
    "TIPS:\n",
    " - fai una simulazione con il tuo browser e individua il nome della classe css dove compare il prezzo sulla pagina booking"
   ]
  },
  {
   "cell_type": "code",
   "execution_count": null,
   "metadata": {},
   "outputs": [],
   "source": [
    "def tracking(url,checkin,checkout,adults):\n",
    "    #your code here\n",
    "   "
   ]
  },
  {
   "cell_type": "code",
   "execution_count": null,
   "metadata": {},
   "outputs": [],
   "source": [
    "# chiama la funzione tracking\n",
    "check_in=\"2020-09-01\"\n",
    "check_out=\"2020-09-03\"\n",
    "adults=1\n",
    "print (f\"****RICHIESTA DISPONIBILITA STANZA per {adults} persona/e'\")\n",
    "print (f\"check-in: {check_in}\")\n",
    "print (f\"check-out: {check_out}\")\n",
    "price = tracking(URL_QUERY,check_in,check_out,adults)\n",
    "if(price!=False):\n",
    "    print(f\"prezzo: {price}\")\n",
    "else:\n",
    "    print(\"Non disponibile per queste date\")"
   ]
  },
  {
   "cell_type": "markdown",
   "metadata": {},
   "source": [
    "#### STEP 05 (per casa e per i più intraprendenti) recuperare la disponibilità per un intero periodo \n",
    "sfruttando la funzione precedente, crea una funzione ***tracking_period*** che riceve 5 parametri:\n",
    "- **url**: l'url template di un b&b\n",
    "- **aduls**: adulti (es.1)\n",
    "- **start_date**:  per esempio 2020-05-01\n",
    "- **end_date**: per esempio 2020-05-30\n",
    "- **interval_day**: per esempio 2 -> rappresenta la differenza di giorni tra un checkin e un checkout\n",
    "\n",
    "e restituisce una lista con la disponibilità per il periodo definito da [start_date,end_date]. \n",
    "\n",
    "Esempio\n",
    "\n",
    "Se chiamo \n",
    "```python\n",
    "may= tracking_period(URL_QUERY,adults=1,start_date=\"2020-05-01\",end_date=\"2020-05-06\",inteval_day=\"2\")\n",
    "```\n",
    "allora ***may*** sara uguale a:\n",
    "\n",
    "```python\n",
    "[{\"check-in\": \"2020-05-01\",  \"checkout\": \"2020-05-03\", \"price\": 40.0},\n",
    " {\"check-in\": \"2020-05-03\",  \"checkout\": \"2020-05-05\", \"price\": False},\n",
    " {\"check-in\": \"2020-05-06\",  \"checkout\": \"2020-05-08\", \"price\": 20.0}]\n",
    "```\n",
    "\n",
    "TIPS:\n",
    "1. per un codice più snello guardatevi su come gestire le date prendendo esempio dal file**\"03. TIP- Date in python.ipynb\"**\n",
    "\n",
    "2. inserite una pausa tra una chiamata e l'altra per evitare che booking vi banni\n",
    "https://www.pythoncentral.io/pythons-time-sleep-pause-wait-sleep-stop-your-code/"
   ]
  },
  {
   "cell_type": "code",
   "execution_count": null,
   "metadata": {},
   "outputs": [],
   "source": [
    "def tracking_period(url,adults,start_date,end_date,interval_day):\n",
    "    #your code here\n",
    "    "
   ]
  },
  {
   "cell_type": "code",
   "execution_count": null,
   "metadata": {},
   "outputs": [],
   "source": [
    "#chiama la funzione\n",
    "may= tracking_period(URL_QUERY,adults=1,start_date=\"2020-05-01\",end_date=\"2020-05-06\",inteval_day=\"2\")"
   ]
  }
 ],
 "metadata": {
  "kernelspec": {
   "display_name": "Python 3",
   "language": "python",
   "name": "python3"
  },
  "language_info": {
   "codemirror_mode": {
    "name": "ipython",
    "version": 3
   },
   "file_extension": ".py",
   "mimetype": "text/x-python",
   "name": "python",
   "nbconvert_exporter": "python",
   "pygments_lexer": "ipython3",
   "version": "3.7.4"
  }
 },
 "nbformat": 4,
 "nbformat_minor": 4
}
