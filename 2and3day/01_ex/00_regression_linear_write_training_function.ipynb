{
 "cells": [
  {
   "cell_type": "code",
   "execution_count": 1,
   "metadata": {},
   "outputs": [
    {
     "ename": "IndentationError",
     "evalue": "expected an indented block (<ipython-input-1-056f14b1bf9c>, line 20)",
     "output_type": "error",
     "traceback": [
      "\u001b[0;36m  File \u001b[0;32m\"<ipython-input-1-056f14b1bf9c>\"\u001b[0;36m, line \u001b[0;32m20\u001b[0m\n\u001b[0;31m    X,Y = np.loadtxt(\"training_set_cornetti.txt\",skiprows=1,unpack=True)\u001b[0m\n\u001b[0m    ^\u001b[0m\n\u001b[0;31mIndentationError\u001b[0m\u001b[0;31m:\u001b[0m expected an indented block\n"
     ]
    }
   ],
   "source": [
    "%matplotlib inline\n",
    "import numpy as np\n",
    "import matplotlib.pyplot as plt\n",
    "import seaborn as sns\n",
    "sns.set()\n",
    "\n",
    "\n",
    "def prediction(X,w,b): \n",
    "    return X*w+b\n",
    "\n",
    "def loss(X,Y,w,b):\n",
    "    error=prediction(X,w,b) - Y\n",
    "    squared_error = error**2\n",
    "    return np.average(squared_error)\n",
    "\n",
    "def training(X,Y,iteration,learning_rate):\n",
    "    #your code\n",
    "    \n",
    "# carico il training set \n",
    "X,Y = np.loadtxt(\"training_set_cornetti.txt\",skiprows=1,unpack=True)\n",
    "\n",
    "# avvio il training\n",
    "w0,b0= training(X,Y,10000,0.01)\n",
    "print(f\"\\nRISULTATO DEL TRAINING:\")\n",
    "print(f\"w0:{w0:2.3} + b0:{b0:2.3}\")\n",
    "\n",
    "# disegno il training set \n",
    "#plt.figure(figsize=(10,10))\n",
    "plt.xlabel(\"#prenotazioni\",fontsize=30)\n",
    "plt.ylabel(\"#cornetti\",fontsize=30)\n",
    "plt.xticks(fontsize=15)\n",
    "plt.yticks(fontsize=15)\n",
    "plt.plot(X, Y, \"bo\")\n",
    "\n",
    "# disegno la linea che meglio approssima i dati di predizione \n",
    "axis_x=[0,15]\n",
    "axis_y=[b0,prediction(axis_x[1],w0,b0)]\n",
    "plt.plot(axis_x, axis_y, '-r', label=f\"y=x*w0+b0\")\n",
    "plt.text(10,0.5,f\"w0={w0:2.3} b0={b0:2.3}\",fontsize=13)\n",
    "plt.legend(loc='upper left')\n",
    "plt.show()"
   ]
  },
  {
   "cell_type": "code",
   "execution_count": null,
   "metadata": {},
   "outputs": [],
   "source": []
  }
 ],
 "metadata": {
  "kernelspec": {
   "display_name": "Python 3",
   "language": "python",
   "name": "python3"
  },
  "language_info": {
   "codemirror_mode": {
    "name": "ipython",
    "version": 3
   },
   "file_extension": ".py",
   "mimetype": "text/x-python",
   "name": "python",
   "nbconvert_exporter": "python",
   "pygments_lexer": "ipython3",
   "version": "3.7.4"
  }
 },
 "nbformat": 4,
 "nbformat_minor": 4
}
