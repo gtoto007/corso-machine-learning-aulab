{
 "cells": [
  {
   "cell_type": "markdown",
   "metadata": {},
   "source": [
    "## COME GESTIRE LE DATE IN PYTHON"
   ]
  },
  {
   "cell_type": "code",
   "execution_count": 11,
   "metadata": {},
   "outputs": [
    {
     "name": "stdout",
     "output_type": "stream",
     "text": [
      " 2020-05-01 00:00:00 + 2day = checkout 2020-05-03 00:00:00\n"
     ]
    }
   ],
   "source": [
    "#importo le librerie per gestire le date\n",
    "from datetime import datetime  \n",
    "from datetime import timedelta \n",
    "#impostare formato data\n",
    "formatData = \"%Y-%m-%d\"\n",
    "#creare un oggetto data partendo da una stringa\n",
    "check_in=datetime.strptime(\"2020-05-01\",formatData)\n",
    "interval_day=2 \n",
    "#derivare un nuovo oggetto data sommando un intervallo di 2 giorni\n",
    "checkout = check_in + timedelta(interval_day)\n",
    "print(f\" {check_in} + 2day = checkout {checkout}\")"
   ]
  },
  {
   "cell_type": "code",
   "execution_count": null,
   "metadata": {},
   "outputs": [],
   "source": []
  }
 ],
 "metadata": {
  "kernelspec": {
   "display_name": "Python 3",
   "language": "python",
   "name": "python3"
  },
  "language_info": {
   "codemirror_mode": {
    "name": "ipython",
    "version": 3
   },
   "file_extension": ".py",
   "mimetype": "text/x-python",
   "name": "python",
   "nbconvert_exporter": "python",
   "pygments_lexer": "ipython3",
   "version": "3.7.6"
  }
 },
 "nbformat": 4,
 "nbformat_minor": 4
}
