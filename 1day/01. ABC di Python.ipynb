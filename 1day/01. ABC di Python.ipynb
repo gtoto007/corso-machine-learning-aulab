{
 "cells": [
  {
   "cell_type": "markdown",
   "metadata": {},
   "source": [
    "# IMPARARE PYTHON"
   ]
  },
  {
   "cell_type": "markdown",
   "metadata": {},
   "source": [
    "RISORSE UTILI:\n",
    "- corso interattivo (free): https://www.learnpython.org/en/Welcome\n",
    "- sfide interattive (free): https://www.hackerrank.com/domains/python\n",
    "- corso interattivo (free solo primo capitolo): https://www.datacamp.com/courses/intro-to-python-for-data-science\n",
    "- ebook: learn Python the Hard way: https://learncodethehardway.org/python/\n"
   ]
  },
  {
   "cell_type": "markdown",
   "metadata": {},
   "source": [
    "## YOUR FIRST PROGRAM IN PYTHON"
   ]
  },
  {
   "cell_type": "code",
   "execution_count": null,
   "metadata": {},
   "outputs": [],
   "source": [
    "print(\"Hello World!\")\n",
    "print(\"Hello Again\")\n",
    "print(\"I like typing this.\")\n",
    "print(\"This is fun.\")\n",
    "print('Yay! Printing.')\n",
    "print(\"I'd much rather you 'not'.\")\n",
    "print('I \"said\" do not touch this.')\n",
    "print('Hello vincenzo, How are you? You have small tits but I prefer these because they are compact and soft')"
   ]
  },
  {
   "cell_type": "markdown",
   "metadata": {},
   "source": [
    "### EXERCISE\n",
    "Crea una \"cella\" qui sotto e scrivi il tuo primo programma che stampa su più righe i tuoi hobby o le tue frustrazioni"
   ]
  },
  {
   "cell_type": "markdown",
   "metadata": {},
   "source": [
    "## COMMENTS"
   ]
  },
  {
   "cell_type": "code",
   "execution_count": null,
   "metadata": {
    "scrolled": true
   },
   "outputs": [],
   "source": [
    "# A comment, this is so you can read your program later.\n",
    "# Anything after the # is ignored by python.\n",
    "\n",
    "print(\"I could have code like this.\") # and the comment after is ignored\n",
    "\n",
    "# You can also use a comment to \"disable\" or comment out code:\n",
    "# print(\"This won't run.\")\n",
    "\n",
    "print(\"This will run.\")"
   ]
  },
  {
   "cell_type": "markdown",
   "metadata": {},
   "source": [
    "## VARIABLES AND TYPES"
   ]
  },
  {
   "cell_type": "code",
   "execution_count": null,
   "metadata": {},
   "outputs": [],
   "source": [
    "# INTEGER\n",
    "myint = 7\n",
    "print(myint)"
   ]
  },
  {
   "cell_type": "code",
   "execution_count": null,
   "metadata": {},
   "outputs": [],
   "source": [
    "# FLOATINGS\n",
    "myfloat = 7.5\n",
    "print(myfloat)"
   ]
  },
  {
   "cell_type": "code",
   "execution_count": null,
   "metadata": {
    "scrolled": true
   },
   "outputs": [],
   "source": [
    "# STRINGS are defined either with a single quote or a double quotes.\n",
    "mystring = 'hello'\n",
    "print(mystring)\n",
    "\n",
    "mystring = \"hello\"\n",
    "print(mystring)\n",
    "\n",
    "#The difference between the two is that using \n",
    "#double quotes makes it easy to include apostrophes \n",
    "#(whereas these would terminate the string if using single quotes)\n",
    "mystring = \"Don't worry about apostrophes\"\n",
    "\n",
    "print(mystring)"
   ]
  },
  {
   "cell_type": "code",
   "execution_count": null,
   "metadata": {},
   "outputs": [],
   "source": [
    "# bool\n",
    "itIsTrue= True #inizia con la T maiuscola!\n",
    "itIsFalse = False"
   ]
  },
  {
   "cell_type": "code",
   "execution_count": null,
   "metadata": {},
   "outputs": [],
   "source": [
    "giulia=25 #anni\n",
    "marco=40 #anni\n",
    "\n",
    "giulia_is_younger = giulia < marco;\n",
    "\n",
    "print(giulia_is_younger)"
   ]
  },
  {
   "cell_type": "markdown",
   "metadata": {},
   "source": [
    "## ARITHMETIC\n",
    "In Python, there are different types of **operators** (special symbols) that operate on different values. Some of the basic operators include:\n",
    "\n",
    "- arithmetic operators\n",
    "  - **`+`** (addition)\n",
    "  - **`-`** (subtraction)\n",
    "  - **`*`** (multiplication)\n",
    "  - **`/`** (division)\n",
    "  - __`**`__ (exponent)\n",
    "  - **`%`** (module)\n",
    "- assignment operators\n",
    "  - **`=`** (assign a value)\n",
    "  - **`+=`** (add and re-assign; increment)\n",
    "  - **`-=`** (subtract and re-assign; decrement)\n",
    "  - **`*=`** (multiply and re-assign)\n",
    "- comparison operators (return either `True` or `False`)\n",
    "  - **`==`** (equal to)\n",
    "  - **`!=`** (not equal to)\n",
    "  - **`<`** (less than)\n",
    "  - **`<=`** (less than or equal to)\n",
    "  - **`>`** (greater than)\n",
    "  - **`>=`** (greater than or equal to)"
   ]
  },
  {
   "cell_type": "code",
   "execution_count": null,
   "metadata": {},
   "outputs": [],
   "source": [
    "#define some numbers\n",
    "num1=40\n",
    "num2=10\n",
    "num3=20\n",
    "num4=10.3\n",
    "num5=4\n",
    "num6=2"
   ]
  },
  {
   "cell_type": "code",
   "execution_count": null,
   "metadata": {},
   "outputs": [],
   "source": [
    "# Addition\n",
    "num1 + num2"
   ]
  },
  {
   "cell_type": "code",
   "execution_count": null,
   "metadata": {},
   "outputs": [],
   "source": [
    "# Subtraction\n",
    "num2 - num3"
   ]
  },
  {
   "cell_type": "code",
   "execution_count": null,
   "metadata": {},
   "outputs": [],
   "source": [
    "# Multiplication\n",
    "num3 * num4"
   ]
  },
  {
   "cell_type": "code",
   "execution_count": null,
   "metadata": {},
   "outputs": [],
   "source": [
    "# Division\n",
    "num4 / num5"
   ]
  },
  {
   "cell_type": "code",
   "execution_count": null,
   "metadata": {},
   "outputs": [],
   "source": [
    "# Module - This operator returns the remainder of the division\n",
    "num5 % num6"
   ]
  },
  {
   "cell_type": "code",
   "execution_count": null,
   "metadata": {},
   "outputs": [],
   "source": [
    "# Exponent\n",
    "num6 ** 3"
   ]
  },
  {
   "cell_type": "markdown",
   "metadata": {},
   "source": [
    "### EXERCISE\n",
    "Supponiamo di avere €100, che puoi investire in borsa con un rendimento del 10% ogni anno. Dopo un anno, è 100 × 1,1 = 110€ e dopo due anni è 100 × 1,1 × 1,1 = 121€ e così via. Aggiungi il codice per calcolare quanti soldi avrai dopo 7 anni e stampa il risultato."
   ]
  },
  {
   "cell_type": "code",
   "execution_count": null,
   "metadata": {},
   "outputs": [],
   "source": [
    "my_money=100\n",
    "#your code here\n"
   ]
  },
  {
   "cell_type": "markdown",
   "metadata": {},
   "source": [
    "# IF-ELSE"
   ]
  },
  {
   "cell_type": "code",
   "execution_count": null,
   "metadata": {},
   "outputs": [],
   "source": [
    "people = 30\n",
    "cars = 40\n",
    "trucks = 15\n",
    "\n",
    "\n",
    "if cars > people:\n",
    "    print(\"We should take the cars.\")\n",
    "elif cars < people:\n",
    "    print(\"We should not take the cars.\")\n",
    "else:\n",
    "    print(\"We can't decide.\")\n",
    "\n",
    "if trucks > cars:\n",
    "    print(\"That's too many trucks.\")\n",
    "elif trucks < cars:\n",
    "    print(\"Maybe we could take the trucks.\")\n",
    "else:\n",
    "    print(\"We still can't decide.\")\n",
    "\n",
    "if people > trucks:\n",
    "    print(\"Alright, let's just take the trucks.\")\n",
    "else:\n",
    "    print(\"Fine, let's stay home then.\")\n",
    "\n",
    "# range(start,end,step=1) mi consente di costruire una sequenza di numeri da start (incluso) a end(escluso)  con un incremento di step=1 (default) \n",
    "if  people in range(0,100):\n",
    "    print(\"People in the range between [0,100[\")"
   ]
  },
  {
   "cell_type": "markdown",
   "metadata": {},
   "source": [
    "### EXERCISE\n",
    "Dato un intero, <b>n</b>, esegui le seguenti azioni condizionali\n",
    "\n",
    "- Se <b>n</b> è dispari, stampa \"Weird\"\n",
    "- Se <b>n</b> è pari e in un range inclusivo tra 2 e 5 , stampa \"Not Weird\"\n",
    "- Se <b>n</b> è pari e in un range inclusivo tra 6 e 20,  stampa \"Weird\"\n",
    "- Se <b>n</b> è pari e più grande di  20, stampa  \"Not Weird\"\n"
   ]
  },
  {
   "cell_type": "code",
   "execution_count": null,
   "metadata": {},
   "outputs": [],
   "source": [
    "n = int(input(\"n=\"))\n",
    "# hint: write your code here"
   ]
  },
  {
   "cell_type": "markdown",
   "metadata": {},
   "source": [
    "## COLLECTIONS/CONTAINERS\n",
    "\n",
    "> Note: **mutable** objects can be modified after creation and **immutable** objects cannot.\n"
   ]
  },
  {
   "cell_type": "code",
   "execution_count": null,
   "metadata": {},
   "outputs": [],
   "source": [
    "#(list: mutable; indexed by integers; \n",
    "# items are stored in the order they were added)\n",
    "list1 = [3,5,6]\n",
    "print(list1)"
   ]
  },
  {
   "cell_type": "code",
   "execution_count": null,
   "metadata": {},
   "outputs": [],
   "source": [
    "#add elements of type different\n",
    "list1.append('dog')\n",
    "list1.append('cat')\n",
    "list1.append(False)\n",
    "print(list1)"
   ]
  },
  {
   "cell_type": "code",
   "execution_count": null,
   "metadata": {},
   "outputs": [],
   "source": [
    "#remove element\n",
    "list1.remove(3)\n",
    "print(list1)"
   ]
  },
  {
   "cell_type": "code",
   "execution_count": null,
   "metadata": {},
   "outputs": [],
   "source": [
    "# Access the first item \n",
    "list1[0]"
   ]
  },
  {
   "cell_type": "code",
   "execution_count": null,
   "metadata": {},
   "outputs": [],
   "source": [
    "# Access the last item \n",
    "list1[-1]"
   ]
  },
  {
   "cell_type": "code",
   "execution_count": null,
   "metadata": {},
   "outputs": [],
   "source": [
    "# Access the range of items\n",
    "list1[3:5]"
   ]
  },
  {
   "cell_type": "code",
   "execution_count": null,
   "metadata": {},
   "outputs": [],
   "source": [
    "# Access a range of items \n",
    "list1[:-3]"
   ]
  },
  {
   "cell_type": "code",
   "execution_count": null,
   "metadata": {},
   "outputs": [],
   "source": [
    "# Access a range of items in a sequence\n",
    "list1[4:]"
   ]
  },
  {
   "cell_type": "code",
   "execution_count": null,
   "metadata": {},
   "outputs": [],
   "source": [
    "# TUPLE: immutable; indexed by integers;\n",
    "# Items in the tuple object are stored in the order they were added\n",
    "tuple1 = (3, 5, 6, 3, 'dog', 'cat', False)\n",
    "print(tuple1)"
   ]
  },
  {
   "cell_type": "code",
   "execution_count": null,
   "metadata": {},
   "outputs": [],
   "source": [
    "##tuples are immutable, so you can not remove elements but you can reassign it with new values\n",
    "tuple1 = tuple1[0:2]\n",
    "print(tuple1)"
   ]
  },
  {
   "cell_type": "code",
   "execution_count": null,
   "metadata": {},
   "outputs": [],
   "source": [
    "# Items in the set object are not stored in the order they were added\n",
    "# Also, notice that the value 3 only appears once in this set object\n",
    "set1 = {3, 5, 6, 3, 'dog', 'cat', False}\n",
    "print(set1)"
   ]
  },
  {
   "cell_type": "code",
   "execution_count": null,
   "metadata": {},
   "outputs": [],
   "source": [
    "# (dictionary: mutable; key-value pairs are indexed by immutable keys; \n",
    "# Items in the dict object are not stored in the order they were added\n",
    "dict1 = {'name': 'Jane', \n",
    "         'age': 23, \n",
    "         'fav_foods': ['pizza', 'fruit', 'fish']\n",
    "        }\n",
    "print(dict1)"
   ]
  },
  {
   "cell_type": "code",
   "execution_count": null,
   "metadata": {},
   "outputs": [],
   "source": [
    "# Access an item in a dictionary\n",
    "dict1['name']"
   ]
  },
  {
   "cell_type": "code",
   "execution_count": null,
   "metadata": {},
   "outputs": [],
   "source": [
    "# Access an element of a sequence in a dictionary\n",
    "dict1['fav_foods'][2]"
   ]
  },
  {
   "cell_type": "markdown",
   "metadata": {
    "editable": true
   },
   "source": [
    "## Python built-in functions\n",
    "\n",
    "A **function** is a Python object that you can \"call\" to **perform an action** or compute and **return another object**. You call a function by placing parentheses to the right of the function name. Some functions allow you to pass **arguments** inside the parentheses (separating multiple arguments with a comma). Internal to the function, these arguments are treated like variables.\n",
    "\n",
    "Python has several useful built-in functions to help you work with different objects and/or your environment. Here is a small sample of them:\n",
    "\n",
    "- **`type(obj)`** to determine the type of an object\n",
    "- **`len(container)`** to determine how many items are in a container\n",
    "- **`sorted(container)`** to return a new list from a container, with the items sorted\n",
    "- **`sum(container)`** to compute the sum of a container of numbers\n",
    "- **`min(container)`** to determine the smallest item in a container\n",
    "- **`max(container)`** to determine the largest item in a container\n",
    "- **`abs(number)`** to determine the absolute value of a number\n",
    "- **`repr(obj)`** to return a string representation of an object\n",
    "\n",
    "> Complete list of built-in functions: https://docs.python.org/3/library/functions.html\n"
   ]
  },
  {
   "cell_type": "code",
   "execution_count": null,
   "metadata": {
    "collapsed": false,
    "editable": true,
    "jupyter": {
     "outputs_hidden": false
    }
   },
   "outputs": [],
   "source": [
    "# Use the type() function to determine the type of an object\n",
    "simple_string1=\"hello world\"\n",
    "type(simple_string1)"
   ]
  },
  {
   "cell_type": "code",
   "execution_count": null,
   "metadata": {
    "collapsed": false,
    "editable": true,
    "jupyter": {
     "outputs_hidden": false
    }
   },
   "outputs": [],
   "source": [
    "# Use the len() function to determine how many items are in a container\n",
    "len(dict1)"
   ]
  },
  {
   "cell_type": "code",
   "execution_count": null,
   "metadata": {
    "collapsed": false,
    "editable": true,
    "jupyter": {
     "outputs_hidden": false
    }
   },
   "outputs": [],
   "source": [
    "# Use the len() function to determine how many items are in a container\n",
    "len(simple_string1)"
   ]
  },
  {
   "cell_type": "code",
   "execution_count": null,
   "metadata": {
    "collapsed": false,
    "editable": true,
    "jupyter": {
     "outputs_hidden": false
    }
   },
   "outputs": [],
   "source": [
    "# Use the sorted() function to return a new list from a container, with the items sorted\n",
    "sorted([10, 1, 3.6, 7, 5, 2, -3])"
   ]
  },
  {
   "cell_type": "code",
   "execution_count": null,
   "metadata": {
    "collapsed": false,
    "editable": true,
    "jupyter": {
     "outputs_hidden": false
    }
   },
   "outputs": [],
   "source": [
    "# Use the sorted() function to return a new list from a container, with the items sorted\n",
    "# - notice that capitalized strings come first\n",
    "sorted(['dogs', 'cats', 'zebras', 'Chicago', 'California', 'ants', 'mice'])"
   ]
  },
  {
   "cell_type": "code",
   "execution_count": null,
   "metadata": {
    "collapsed": false,
    "editable": true,
    "jupyter": {
     "outputs_hidden": false
    }
   },
   "outputs": [],
   "source": [
    "# Use the sum() function to compute the sum of a container of numbers\n",
    "sum([10, 1, 3.6, 7, 5, 2, -3])"
   ]
  },
  {
   "cell_type": "code",
   "execution_count": null,
   "metadata": {
    "collapsed": false,
    "editable": true,
    "jupyter": {
     "outputs_hidden": false
    }
   },
   "outputs": [],
   "source": [
    "# Use the min() function to determine the smallest item in a container\n",
    "min([10, 1, 3.6, 7, 5, 2, -3])"
   ]
  },
  {
   "cell_type": "code",
   "execution_count": null,
   "metadata": {
    "collapsed": false,
    "editable": true,
    "jupyter": {
     "outputs_hidden": false
    }
   },
   "outputs": [],
   "source": [
    "# Use the min() function to determine the smallest item in a container\n",
    "min(['g', 'z', 'a', 'y'])"
   ]
  },
  {
   "cell_type": "code",
   "execution_count": null,
   "metadata": {
    "collapsed": false,
    "editable": true,
    "jupyter": {
     "outputs_hidden": false
    }
   },
   "outputs": [],
   "source": [
    "# Use the max() function to determine the largest item in a container\n",
    "max([10, 1, 3.6, 7, 5, 2, -3])"
   ]
  },
  {
   "cell_type": "code",
   "execution_count": null,
   "metadata": {
    "editable": true
   },
   "outputs": [],
   "source": [
    "# Use the max() function to determine the largest item in a container\n",
    "max('gibberish')"
   ]
  },
  {
   "cell_type": "code",
   "execution_count": null,
   "metadata": {
    "collapsed": false,
    "editable": true,
    "jupyter": {
     "outputs_hidden": false
    }
   },
   "outputs": [],
   "source": [
    "# Use the abs() function to determine the absolute value of a number\n",
    "abs(10)"
   ]
  },
  {
   "cell_type": "code",
   "execution_count": null,
   "metadata": {
    "editable": true
   },
   "outputs": [],
   "source": [
    "# Use the abs() function to determine the absolute value of a number\n",
    "abs(-12)"
   ]
  },
  {
   "cell_type": "markdown",
   "metadata": {},
   "source": [
    "## STRING FORMATTING "
   ]
  },
  {
   "cell_type": "code",
   "execution_count": null,
   "metadata": {},
   "outputs": [],
   "source": [
    "types_of_people = 10\n",
    "x = f\"There are {types_of_people} types of people.\"\n",
    "\n",
    "binary = \"binary\"\n",
    "do_not = \"don't\"\n",
    "y = f\"Those who know {binary} and those who {do_not}.\"\n",
    "\n",
    "print(x)\n",
    "print(y)"
   ]
  },
  {
   "cell_type": "code",
   "execution_count": null,
   "metadata": {},
   "outputs": [],
   "source": [
    "print(f\"I said: {x}\")\n",
    "print(f\"I also said: '{y}'\")"
   ]
  },
  {
   "cell_type": "code",
   "execution_count": null,
   "metadata": {},
   "outputs": [],
   "source": [
    "hilarious = False\n",
    "joke_evaluation = \"Isn't that joke so funny?! {}\"\n",
    "\n",
    "print(joke_evaluation.format(hilarious))"
   ]
  },
  {
   "cell_type": "code",
   "execution_count": null,
   "metadata": {},
   "outputs": [],
   "source": [
    "w = \"This is the left side of...\"\n",
    "e = \"a string with a right side.\"\n",
    "\n",
    "print(w + e)"
   ]
  },
  {
   "cell_type": "markdown",
   "metadata": {},
   "source": [
    "## FOR LOOP"
   ]
  },
  {
   "cell_type": "code",
   "execution_count": null,
   "metadata": {},
   "outputs": [],
   "source": [
    "counter = [1, 2, 3, 4, 5]\n",
    "fruits = ['apples', 'oranges', 'pears', 'apricots']\n",
    "change = [1, 'pennies', 2, 'dimes', 3, 'quarters']"
   ]
  },
  {
   "cell_type": "code",
   "execution_count": null,
   "metadata": {},
   "outputs": [],
   "source": [
    "# this first kind of for-loop goes through a list\n",
    "for number in counter:\n",
    "    print(f\"This is count {number}\")"
   ]
  },
  {
   "cell_type": "code",
   "execution_count": null,
   "metadata": {},
   "outputs": [],
   "source": [
    "# same as above\n",
    "for fruit in fruits:\n",
    "    print(f\"A fruit of type: {fruit}\")"
   ]
  },
  {
   "cell_type": "code",
   "execution_count": null,
   "metadata": {},
   "outputs": [],
   "source": [
    "# also we can go through mixed lists too\n",
    "for item in change:\n",
    "    print(f\"I got {item}\")"
   ]
  },
  {
   "cell_type": "code",
   "execution_count": null,
   "metadata": {},
   "outputs": [],
   "source": [
    "# What if we need indexes?\n",
    "for i in range(len(fruits)):\n",
    "    print(f\"Fruit {fruits[i]} in index {i}\")"
   ]
  },
  {
   "cell_type": "code",
   "execution_count": null,
   "metadata": {},
   "outputs": [],
   "source": [
    " # we can also build lists, first start with an empty one\n",
    "elements = []\n",
    "\n",
    "# then use the range function to do 0 to 5 counts\n",
    "for i in range(0, 6):\n",
    "    print(f\"Adding {i} to the list.\")\n",
    "    # append is a function that lists understand\n",
    "    elements.append(i)"
   ]
  },
  {
   "cell_type": "code",
   "execution_count": null,
   "metadata": {},
   "outputs": [],
   "source": [
    "# now we can print them out too\n",
    "for item in elements:\n",
    "    print(f\"Element was: {item}\")"
   ]
  },
  {
   "cell_type": "markdown",
   "metadata": {},
   "source": [
    "## FUNCTION"
   ]
  },
  {
   "cell_type": "code",
   "execution_count": null,
   "metadata": {},
   "outputs": [],
   "source": [
    "# function without parameters\n",
    "def hello_world():\n",
    "    print(\"HELLO WORLD\")\n",
    "    \n",
    "hello_world()"
   ]
  },
  {
   "cell_type": "code",
   "execution_count": null,
   "metadata": {},
   "outputs": [],
   "source": [
    "# function with parameter\n",
    "def cheese_and_crackers(cheese_count, boxes_of_crackers):\n",
    "    print(f\"You have {cheese_count} cheeses!\")\n",
    "    print(f\"You have {boxes_of_crackers} boxes of crackers!\")\n",
    "\n",
    "print(\"We can just give the function numbers directly:\")\n",
    "cheese_and_crackers(20, 30)\n",
    "\n",
    "print(\"OR, we can use variables from our script:\")\n",
    "amount_of_cheese = 10\n",
    "amount_of_crackers = 50\n",
    "\n",
    "cheese_and_crackers(amount_of_cheese, amount_of_crackers)\n",
    "\n",
    "print(\"We can even do math inside too:\")\n",
    "cheese_and_crackers(10 + 20, 5 + 6)\n",
    "\n",
    "\n",
    "print(\"And we can combine the two, variables and math:\")\n",
    "cheese_and_crackers(amount_of_cheese + 100, amount_of_crackers + 1000)"
   ]
  },
  {
   "cell_type": "code",
   "execution_count": null,
   "metadata": {},
   "outputs": [],
   "source": [
    "# function with parameters that return value\n",
    "def linear_equation(x,m,q):\n",
    "    return x*m+q\n",
    "\n",
    "m,q = 8,10\n",
    "x= int(input(\"x=\").strip())\n",
    "y=linear_equation(x,m,q)\n",
    "\n",
    "print(\"y = m * x + q \")\n",
    "print(f\"with x = {x},m = {m}, q = {q}\")\n",
    "print(f\"y = {y}\")"
   ]
  },
  {
   "cell_type": "markdown",
   "metadata": {},
   "source": [
    "### EXERCISE\n",
    "#### Definisci i comportamenti per funzioni  "
   ]
  },
  {
   "cell_type": "code",
   "execution_count": null,
   "metadata": {},
   "outputs": [],
   "source": [
    "def my_sum(a,b): #somma\n",
    "\t#YOUR CODE HERE\n",
    "    \n",
    "def my_sub(a,b):  #sottrazione\n",
    "\t#YOUR CODE HERE\n",
    "    \n",
    "def my_mult(a,b): #moltiplicazione \n",
    "\t#YOUR CODE HERE\n",
    "    \n",
    "def my_div(a,b): #divisione\n",
    "\t#YOUR CODE HERE\n",
    "\n",
    "def my_mod(a,b): #modulo dvisione\n",
    "\t#YOUR CODE HERE\n",
    "\n",
    "def my_pow(a,exp): #esponenziale\n",
    "    #YOUR CODE HERE\n",
    "\n",
    "\n",
    "num1 = int(input(\"num1 = \"))\n",
    "num2 = int(input(\"num2 = \"))\n",
    "\n",
    "print(f\"somma = \",my_sum(num1,num2))\n",
    "print(f\"sottrazione = \", my_sub(num1,num2))\n",
    "print(f\"moltiplicazione = \", my_mult(num1,num2))\n",
    "print(f\"divisione = \", my_div(num1,num2))\n",
    "print(f\"modulo divisione = \", my_mod(num1,num2))\n",
    "print(f\"esponenziale = \", my_pow(num1,num2))"
   ]
  },
  {
   "cell_type": "markdown",
   "metadata": {},
   "source": [
    "# ESERCIZIO COMPLETO: COLLECTION, CICLI E FUNZIONI\n",
    "1. Crea una **funzione *aulab*** che prende come parametro di ingresso la lista X e restituisce una nuova lista Y in cui ogni  valore della lista X è sommato per il valore precedente (escluso il primo elemento).\n",
    "\n",
    "   **Esempio**: se abbiamo la lista X di 5 elementi ```[1,2,3,4,5]```, l'output della funzione *aulab* sarà uguale a  ```[1,2+1,3+2,4+3,5+4]```\n",
    "  \n",
    "2. Crea una lista **X** con 5 valori da te scelti\n",
    "3. **Richiama** la funzione ***aulab***  passando come parametro di ingresso la lista ***X*** e **assegna** il risultato alla variabile ***Y***\n",
    "4. **Stampa** su console la lista ***X***\n",
    "5. **Stampa** su console la lista ***Y***\n",
    "6. **Stampa** su console la lista ***Y*** *ordinata* dal più piccolo al più grande\n",
    "7. **Stampa** sul console la **media** dei valori presenti nella lista ***Y***\n"
   ]
  },
  {
   "cell_type": "code",
   "execution_count": null,
   "metadata": {},
   "outputs": [],
   "source": [
    "# 1 definisco la funzione aulab\n",
    "####your code here####\n",
    "\n",
    "# 2 definisco lista X\n",
    "####your code here####\n",
    "\n",
    "# 3 definisco lista Y\n",
    "####your code here####\n",
    "\n",
    "# 4 stampo X\n",
    "####your code here####\n",
    "\n",
    "# 5 stampo Y\n",
    "####your code here####\n",
    "\n",
    "# 6 ordino Y\n",
    "####your code here####\n",
    "\n",
    "# 7 stampo media dei valori di Y\n",
    "####your code here####"
   ]
  },
  {
   "cell_type": "markdown",
   "metadata": {},
   "source": [
    "## IMPORTARE LIBRERIE e DISEGNARE UN GRAFICO"
   ]
  },
  {
   "cell_type": "code",
   "execution_count": null,
   "metadata": {},
   "outputs": [],
   "source": [
    "%matplotlib inline\n",
    "import matplotlib.pyplot as plt # libreria per disegnare i grafici\n",
    "import numpy.random as random   # numpy è una libreria con utility matematiche "
   ]
  },
  {
   "cell_type": "code",
   "execution_count": null,
   "metadata": {},
   "outputs": [],
   "source": [
    "# definisco l'equazione della retta\n",
    "def linear_equation(x,m,q):\n",
    "    return x*m+q"
   ]
  },
  {
   "cell_type": "code",
   "execution_count": null,
   "metadata": {},
   "outputs": [],
   "source": [
    "X=random.rand(10) #genera 10 numeri casuali da [0,1]"
   ]
  },
  {
   "cell_type": "code",
   "execution_count": null,
   "metadata": {},
   "outputs": [],
   "source": [
    "X"
   ]
  },
  {
   "cell_type": "code",
   "execution_count": null,
   "metadata": {},
   "outputs": [],
   "source": [
    "m,q=10,20"
   ]
  },
  {
   "cell_type": "code",
   "execution_count": null,
   "metadata": {},
   "outputs": [],
   "source": [
    "Y = linear_equation(X,m,q) #ricavo i punti della mia equazione rispetto a X"
   ]
  },
  {
   "cell_type": "code",
   "execution_count": null,
   "metadata": {},
   "outputs": [],
   "source": [
    "Y"
   ]
  },
  {
   "cell_type": "code",
   "execution_count": null,
   "metadata": {},
   "outputs": [],
   "source": [
    "plt.plot(X,Y) #disegno la retta che passa per quei punti\n"
   ]
  },
  {
   "cell_type": "code",
   "execution_count": null,
   "metadata": {},
   "outputs": [],
   "source": [
    "plt.plot(X,Y,\"bo\") #disegno i punti (X,Y)"
   ]
  }
 ],
 "metadata": {
  "kernelspec": {
   "display_name": "Python 3",
   "language": "python",
   "name": "python3"
  },
  "language_info": {
   "codemirror_mode": {
    "name": "ipython",
    "version": 3
   },
   "file_extension": ".py",
   "mimetype": "text/x-python",
   "name": "python",
   "nbconvert_exporter": "python",
   "pygments_lexer": "ipython3",
   "version": "3.7.6"
  }
 },
 "nbformat": 4,
 "nbformat_minor": 4
}
